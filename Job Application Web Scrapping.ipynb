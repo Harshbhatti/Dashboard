{
 "cells": [
  {
   "cell_type": "markdown",
   "id": "53d7a313",
   "metadata": {},
   "source": [
    "# Job Applications webscrapping"
   ]
  },
  {
   "cell_type": "code",
   "execution_count": 275,
   "id": "5641bab6",
   "metadata": {},
   "outputs": [
    {
     "name": "stdout",
     "output_type": "stream",
     "text": [
      "Defaulting to user installation because normal site-packages is not writeable\n",
      "Requirement already satisfied: beautifulsoup4 in c:\\programdata\\anaconda3\\lib\\site-packages (4.11.1)\n",
      "Requirement already satisfied: soupsieve>1.2 in c:\\programdata\\anaconda3\\lib\\site-packages (from beautifulsoup4) (2.3.2.post1)\n",
      "Note: you may need to restart the kernel to use updated packages.\n"
     ]
    }
   ],
   "source": [
    "pip install beautifulsoup4"
   ]
  },
  {
   "cell_type": "code",
   "execution_count": 315,
   "id": "98cf4c9b",
   "metadata": {},
   "outputs": [],
   "source": [
    "import pandas as pd\n",
    "from bs4 import BeautifulSoup\n",
    "import requests"
   ]
  },
  {
   "cell_type": "code",
   "execution_count": 316,
   "id": "1f4b605c",
   "metadata": {},
   "outputs": [],
   "source": [
    "url='https://www.hirist.com/register?&utm_source=google&utm_medium=CPC&utm_campaign=Brand_Search_Hirist&ref=google&gad=1&gclid=Cj0KCQjw7aqkBhDPARIsAKGa0oJDdg-7kERvm3qucJAiJ0EjG13Ald6CjYiC5O7tezXrKsOfWyRd0KkaAjMAEALw_wcB'"
   ]
  },
  {
   "cell_type": "code",
   "execution_count": 317,
   "id": "7a3599e4",
   "metadata": {},
   "outputs": [],
   "source": [
    "req=requests.get(url)"
   ]
  },
  {
   "cell_type": "code",
   "execution_count": 318,
   "id": "44b4347b",
   "metadata": {},
   "outputs": [
    {
     "data": {
      "text/plain": [
       "<Response [200]>"
      ]
     },
     "execution_count": 318,
     "metadata": {},
     "output_type": "execute_result"
    }
   ],
   "source": [
    "req"
   ]
  },
  {
   "cell_type": "code",
   "execution_count": 319,
   "id": "798b526f",
   "metadata": {},
   "outputs": [
    {
     "name": "stdout",
     "output_type": "stream",
     "text": [
      "<!DOCTYPE html>\n",
      "<html lang=\"en\">\n",
      " <head>\n",
      " </head>\n",
      " <link href=\"https://staticlogo.hirist.com\" rel=\"dns-prefetch preconnect\"/>\n",
      " <link href=\"https://job-static.hirist.com\" rel=\"dns-prefetch preconnect\"/>\n",
      " <link href=\"https://hirist-assets.s3.ap-south-1.amazonaws.com\" rel=\"dns-prefetch preconnect\"/>\n",
      " <link href=\"https://billboard.iimjobs.com\" rel=\"dns-prefetch preconnect\"/>\n",
      " <link href=\"https://d3qr48lsanmyop.cloudfront.net\" rel=\"dns-prefetch preconnect\"/>\n",
      " <link href=\"https://www.googletagmanager.com\" rel=\"dns-prefetch\"/>\n",
      " <meta charset=\"utf-8\"/>\n",
      " <link as=\"style\" href=\"https://fonts.googleapis.com/css?family=Nunito+Sans:200,200i,300,300i,400,400i,600,600i,700,700i,800,800i,900,900i&amp;display=swap\" rel=\"preload\"/>\n",
      " <link href=\"https://fonts.googleapis.com/css?family=Nunito+Sans:200,200i,300,300i,400,400i,600,600i,700,700i,800,800i,900,900i&amp;display=swap\" rel=\"stylesheet\"/>\n",
      " <link as=\"style\" href=\"https://cdn.jsdelivr.net/npm/placeholder-loading/dist/css/placeholder-loading.min.css\" rel=\"preload\"/>\n",
      " <link href=\"https://cdn.jsdelivr.net/npm/placeholder-loading/dist/css/placeholder-loading.min.css\" rel=\"stylesheet\"/>\n",
      " <link as=\"style\" href=\"https://cdnjs.cloudflare.com/ajax/libs/animate.css/3.7.2/animate.min.css\" rel=\"preload\"/>\n",
      " <link href=\"https://cdnjs.cloudflare.com/ajax/libs/animate.css/3.7.2/animate.min.css\" rel=\"stylesheet\"/>\n",
      " <meta content=\"width=device-width,initial-scale=1,shrink-to-fit=no\" name=\"viewport\"/>\n",
      " <meta content=\"#000000\" name=\"theme-color\"/>\n",
      " <meta content=\"https://static.hirist.com/resources/images/hirist200x200.png\" property=\"og:image\">\n",
      "  <meta content=\"Explore IT job vacancies on Hirist, India's niche IT sector job portal for fresher or experienced. Discover the latest tech job openings in Java, Python, Big Data, Data Science, AWS, AI, etc. Sign up today &amp; connect with top tech companies to land your dream job.\" name=\"description\">\n",
      "   <meta content=\"Find Your Dream Tech Job at Hirist.com  - India's #1 IT Job Portal\" property=\"og:title\">\n",
      "    <meta content=\"Explore IT job vacancies on Hirist, India's niche IT sector job portal for fresher or experienced. Discover the latest tech job openings in Java, Python, Big Data, Data Science, AWS, AI, etc. Sign up today &amp; connect with top tech companies to land your dream job.\" property=\"og:description\"/>\n",
      "    <meta content=\"article\" property=\"og:type\"/>\n",
      "    <link href=\"https://static.hirist.com/resources/img/hirist/favicon.ico\" rel=\"shortcut icon\"/>\n",
      "    <style>\n",
      "     #root,body,html{width:100%;margin:0;padding:0;max-width:1440px;margin:0 auto;font-family:Nunito Sans;background:#f2f5fa}@media (min-width:1441px){#root,body,html{position:unset!important}}\n",
      "    </style>\n",
      "    <link href=\"https://job-static.hirist.com/V2/static/css/23.5d5399ad.chunk.css\" rel=\"stylesheet\"/>\n",
      "    <link href=\"https://job-static.hirist.com/V2/static/css/main.77fbd0c2.chunk.css\" rel=\"stylesheet\"/>\n",
      "    <link as=\"style\" href=\"https://job-static.hirist.com/V2/static/css/23.5d5399ad.chunk.css\" rel=\"preload\"/>\n",
      "    <link as=\"style\" href=\"https://job-static.hirist.com/V2/static/css/main.77fbd0c2.chunk.css\" rel=\"preload\"/>\n",
      "    <link as=\"script\" href=\"https://job-static.hirist.com/V2/static/js/23.d871011d.chunk.js\" rel=\"preload\"/>\n",
      "    <link as=\"script\" href=\"https://job-static.hirist.com/V2/static/js/main.18e7201f.chunk.js\" rel=\"preload\"/>\n",
      "    <body>\n",
      "     <noscript>\n",
      "      <iframe height=\"0\" src=\"https://www.googletagmanager.com/ns.html?id=GTM-WCRJPZQ\" style=\"display:none;visibility:hidden\" width=\"0\">\n",
      "      </iframe>\n",
      "     </noscript>\n",
      "     <noscript>\n",
      "      You need to enable JavaScript to run this app.\n",
      "     </noscript>\n",
      "     <div id=\"root\">\n",
      "      <div>\n",
      "       <img src=\"https://job-static.hirist.com/resources/splash-screen-web.svg\" style=\"width: 100%; height: 100vh;\"/>\n",
      "      </div>\n",
      "     </div>\n",
      "     <link href=\"https://static.hirist.com/resources/img/hirist/favicon.ico\" rel=\"shortcut icon\"/>\n",
      "     <script>\n",
      "      window.__PRELOADED_STATE__ = {\"router\":{\"location\":{\"pathname\":\"/\",\"search\":\"\",\"hash\":\"\",\"key\":\"gs3xlp\"},\"action\":\"POP\"},\"feed\":{\"jobFeed\":[],\"hasMore\":false,\"additionalMetaPayload\":{},\"filter\":{\"catId\":\"\",\"tagId\":\"\",\"tagName\":\"\"},\"nativeAds\":[],\"banner\":{},\"courseInfo\":[],\"blogData\":[],\"featuredInstitutes\":[],\"featuredCompanies\":[],\"featuredEmployers\":[],\"diversityEmployers\":[],\"searchPageData\":{\"recentSearches\":[],\"topEmployers\":[],\"trendingCourses\":[],\"featuredEmployer\":{},\"featuredWomenEmployer\":[]},\"showcaseData\":{\"showcases\":[],\"isShowcaseLoading\":true},\"selectedJobs\":[],\"allCatJobs\":{}},\"user\":{\"profile\":{},\"profileLoaded\":false,\"obfuscatedUserId\":\"\",\"pro\":{\"isPro\":0,\"daysRemaining\":0,\"followUpCount\":0,\"userTags\":[]},\"notifications\":[],\"isNotificationLoading\":true,\"unreadCount\":0,\"isUserLoading\":true,\"personalizedJobFeed\":{\"personalizedTags\":[],\"userFollowedTags\":[],\"followedTagsSuccess\":[],\"unFollowedTagsSuccess\":[],\"clearAllTagsSuccess\":\"\"},\"isPersonalizedTagsLoading\":true,\"unfollowedJobs\":[],\"isUnfollowedJobsLoading\":true,\"unfollowedRecruiters\":[],\"isUnfollowedRecruitersLoading\":true,\"savedJobs\":[],\"isSavedJobsLoading\":false,\"appliedJobs\":[],\"isAppliedJobLoading\":false,\"hasMore\":true},\"search\":{\"keywords\":[]},\"course\":{\"courseList\":[],\"isCourseLoading\":false,\"hasMore\":false,\"msg\":\"\"},\"company\":{\"companyList\":[],\"isCompanyLoading\":false,\"hasMore\":false},\"jobInfo\":{\"jobData\":{},\"isUserAllowedToReportJob\":false,\"isJobReportLoading\":false,\"followUpData\":{},\"recData\":{},\"additionalJobInfo\":{},\"insightsInfo\":{},\"magicSortInfo\":{},\"applyJob\":{},\"userInfoApply\":{},\"isApplyJobLoading\":false,\"courseAfterApply\":[]},\"authData\":{\"isLoginLoading\":false,\"isSignupLoading\":false,\"isForgotPasswordLoading\":false,\"loginData\":null,\"signupData\":null,\"forgotPasswordData\":null,\"loginError\":null,\"signupError\":null,\"forgotPasswordError\":null,\"favCompanies\":[],\"companiesPopup\":{},\"freshJobs\":[],\"isResetPasswordLoading\":false,\"resetPasswordData\":null,\"resetPasswordError\":null,\"captchaEnabled\":false},\"multi\":{\"multipleApplyLoading\":true,\"applyMessage\":\"\"},\"settings\":{\"changePassword\":{},\"updateNotification\":{},\"isLoading\":false,\"changeEmailData\":{},\"cancelChangeEmailData\":{}},\"tests\":{\"pending\":[],\"isPendingTestsLoading\":true,\"testAssignment\":{},\"questionSet\":{},\"testQuestions\":{},\"testScore\":{},\"submitTestResponse\":{},\"isSubmitTestInProgress\":false,\"reportQuesResponse\":{}},\"interviews\":{\"myInterviews\":{},\"interviewsLoading\":false},\"calendar\":{\"availableSlots\":{},\"isLoading\":false,\"slotsError\":{},\"confirmSlotData\":{},\"cancelSlotData\":{},\"rescheduleSlotData\":{},\"notifyData\":{},\"isInformRecruiterLoading\":false,\"isBookSlotLoading\":false},\"recruiter\":{\"recruiterProfile\":{},\"recruiterError\":null,\"isLoading\":false},\"verification\":{\"userInfo\":{},\"sendEmailInfo\":{},\"isEmailLoading\":false,\"sendOtpInfo\":{},\"isOtpLoading\":false,\"submitOtpInfo\":{},\"submitOtpLoading\":false,\"emailVerifyInfo\":{}},\"plansReducer\":{\"pricingDetails\":[],\"paymentDetails\":[{}],\"eaButtonClickLoader\":false,\"rbButtonClickLoader\":false},\"earlyApplicantPreference\":{\"preferences\":{\"selectedFunctionalArea\":null,\"selectedSkills\":[],\"selectedCompanies\":[],\"selectedLocations\":[],\"selectedRoles\":[],\"status\":true,\"email\":true,\"notification\":true,\"notificationFrequency\":\"DAILY\"},\"error\":\"\",\"hasPreference\":-1,\"isFaLoading\":false,\"isSkillsLoading\":false,\"isCompanyLoading\":false,\"isLocationLoading\":false,\"saveLoading\":false,\"preferenceLoading\":false,\"togglePauseLoading\":false,\"isJobsLoading\":true,\"skillJobsLoading\":false,\"outsideLocationJobsLoading\":false,\"outsideCompanyJobsLoading\":false,\"saveStatus\":-1,\"functionalAreas\":[],\"skills\":[],\"suggestedSkills\":[],\"companies\":[],\"locations\":[],\"profileData\":{\"profileSkillIds\":[],\"profileFunctionalId\":null,\"profilePreferredLocationIds\":[]},\"recentlyPostedJobs\":{\"hasMore\":false,\"count\":0,\"data\":[],\"failedIdArr\":[]},\"jobsBasedOnSkills\":{\"fetch\":false,\"hasMore\":false,\"count\":0,\"data\":[],\"failedIdArr\":[]},\"jobsOutsideLocation\":{\"hasMore\":false,\"count\":0,\"data\":[],\"failedIdArr\":[]},\"jobsOutsideCompany\":{\"hasMore\":false,\"count\":0,\"data\":[],\"failedIdArr\":[]}},\"multiSectionFeed\":{\"topJobfeed\":[],\"bottomJobfeed\":[],\"isJobfeedLoading\":true,\"hasMore\":true},\"joiningKitCampaign\":{\"notificationData\":{\"id\":0,\"userId\":0,\"companies\":[],\"roles\":[],\"reminderStatus\":-1,\"jobIds\":[],\"jobDetails\":[],\"lastNotificationDate\":null},\"joiningKitInfoData\":{\"id\":0,\"userId\":null,\"kitNotificationId\":null,\"joined\":-1,\"role\":null,\"jobId\":null,\"companyId\":null,\"companyName\":null,\"addressText\":\"\",\"cityId\":null,\"state\":\"\",\"pincode\":null,\"linkedInData\":{\"OAuthURL\":null,\"postText\":null,\"postId\":null,\"imageId\":null,\"userLinkedinID\":null},\"completionStatus\":null,\"bannerStatus\":null},\"showBanner\":null,\"showBannerLoading\":null,\"joinedOrNotLoading\":null,\"joinedOrNotSuccess\":null,\"notificationDataLoading\":null,\"kitDataLoading\":false,\"saveNotifcationDataLoading\":false,\"saveKitDataLoading\":false,\"getNotificationDataError\":null,\"getKitDataError\":null,\"saveNotifcationDataError\":null,\"saveKitDataError\":null,\"saveKitDataSuccess\":null,\"sharePostLoading\":null,\"sharePostSuccess\":null,\"uploadImageLoading\":null,\"uploadImageSuccess\":null}}\n",
      "     </script>\n",
      "     <img alt=\"webpageViewport\" height=\"99999\" src=\"data:image/svg+xml;base64,PD94bWwgdmVyc2lvbj0iMS4wIiBlbmNvZGluZz0iVVRGLTgiPz4NCjxzdmcgd2lkdGg9IjE0NDBweCIgaGVpZ2h0PSIxMDgwcHgiIHZpZXdCb3g9IjAgMCAxNDQwIDEwODAiIHZlcnNpb249IjEuMSIgeG1sbnM9Imh0dHA6Ly93d3cudzMub3JnLzIwMDAvc3ZnIiB4bWxuczp4bGluaz0iaHR0cDovL3d3dy53My5vcmcvMTk5OS94bGluayI+DQogICAgPHRpdGxlPnBsYWNlaG9sZGVyQDF4PC90aXRsZT4NCiAgICA8ZyBpZD0icGxhY2Vob2xkZXIiIHN0cm9rZT0ibm9uZSIgc3Ryb2tlLXdpZHRoPSIxIiBmaWxsPSJub25lIiBmaWxsLXJ1bGU9ImV2ZW5vZGQiPg0KICAgICAgICA8cmVjdCBmaWxsPSIjRjJGNUZBIiB4PSIwIiB5PSIwIiB3aWR0aD0iMTQ0MCIgaGVpZ2h0PSIxMDgwIj48L3JlY3Q+DQogICAgPC9nPg0KPC9zdmc+\" style=\"pointer-events:none;position:absolute;top:0;left:0;width:99vw;height:99vh;max-width:99vw;max-height:99vh;z-index:-100\" width=\"99999\"/>\n",
      "     <script>\n",
      "      !function(e,t,a,n,r){e[n]=e[n]||[],e[n].push({\"gtm.start\":(new Date).getTime(),event:\"gtm.js\"});var g=t.getElementsByTagName(a)[0],m=t.createElement(a);m.defer=!0,m.src=\"https://www.googletagmanager.com/gtm.js?id=GTM-WCRJPZQ\",g.parentNode.insertBefore(m,g)}(window,document,\"script\",\"dataLayer\")\n",
      "     </script>\n",
      "     <script defer=\"defer\" src=\"https://www.googletagmanager.com/gtag/js?id=UA-33517701-1\">\n",
      "     </script>\n",
      "     <script defer=\"defer\">\n",
      "      function gtag(){dataLayer.push(arguments)}window.dataLayer=window.dataLayer||[],gtag(\"js\",new Date),gtag(\"config\",\"UA-33517701-1\")\n",
      "     </script>\n",
      "     <script>\n",
      "      !function(n){function e(e){for(var f,a,c=e[0],d=e[1],t=e[2],r=0,b=[];r<c.length;r++)a=c[r],Object.prototype.hasOwnProperty.call(l,a)&&l[a]&&b.push(l[a][0]),l[a]=0;for(f in d)Object.prototype.hasOwnProperty.call(d,f)&&(n[f]=d[f]);for(p&&p(e);b.length;)b.shift()();return u.push.apply(u,t||[]),o()}function o(){for(var e,f=0;f<u.length;f++){for(var a=u[f],c=!0,d=1;d<a.length;d++){var t=a[d];0!==l[t]&&(c=!1)}c&&(u.splice(f--,1),e=s(s.s=a[0]))}return e}var a={},i={22:0},l={22:0},u=[];function s(e){if(a[e])return a[e].exports;var f=a[e]={i:e,l:!1,exports:{}};return n[e].call(f.exports,f,f.exports,s),f.l=!0,f.exports}s.e=function(u){var e=[];i[u]?e.push(i[u]):0!==i[u]&&{3:1,6:1,7:1,10:1,11:1,13:1,14:1,15:1,16:1,17:1,18:1,24:1,25:1,26:1,27:1,28:1,29:1,30:1,31:1,32:1,33:1,34:1,35:1,36:1,37:1,38:1,39:1,40:1,41:1,42:1,43:1,44:1,45:1,46:1,47:1,48:1,49:1,50:1,51:1,52:1,53:1,54:1,55:1,56:1,57:1,58:1,59:1,60:1,61:1,62:1,63:1,64:1,65:1,66:1,67:1,69:1,70:1,71:1,73:1,75:1,76:1,77:1,78:1,79:1,80:1,81:1,82:1,84:1,86:1,87:1,88:1,89:1,90:1,91:1,92:1,93:1,94:1,95:1,96:1,97:1,99:1,101:1,102:1,103:1,104:1,105:1,106:1,107:1,108:1,109:1,110:1}[u]&&e.push(i[u]=new Promise(function(e,c){for(var f=\"static/css/\"+({}[u]||u)+\".\"+{0:\"31d6cfe0\",1:\"31d6cfe0\",2:\"31d6cfe0\",3:\"2fb6e2e0\",4:\"31d6cfe0\",5:\"31d6cfe0\",6:\"af8a82de\",7:\"4fe0e65e\",8:\"31d6cfe0\",9:\"31d6cfe0\",10:\"2e885571\",11:\"cb9a6bec\",12:\"31d6cfe0\",13:\"1d70e258\",14:\"bcd06008\",15:\"62269389\",16:\"e6308d4c\",17:\"12299f91\",18:\"7e974e84\",19:\"31d6cfe0\",20:\"31d6cfe0\",24:\"b20b2433\",25:\"8af4bd36\",26:\"ae0454f6\",27:\"bfa0c347\",28:\"79906eb1\",29:\"79906eb1\",30:\"af368504\",31:\"f8af2e7d\",32:\"ea4531b3\",33:\"8f5c5299\",34:\"b3cd8a3a\",35:\"124fd554\",36:\"65e8a327\",37:\"c7a20baa\",38:\"0ae28f3c\",39:\"fa1bdd29\",40:\"f9802d85\",41:\"8b79998b\",42:\"13bc357f\",43:\"7dc7fa54\",44:\"e13d3fb7\",45:\"62da6ac7\",46:\"af5d2664\",47:\"00f551a4\",48:\"5029aebd\",49:\"05bb508c\",50:\"b3035ba5\",51:\"43123f54\",52:\"311cf0ed\",53:\"c8e5475c\",54:\"686f53b3\",55:\"76b4c111\",56:\"187b4360\",57:\"7292fbea\",58:\"52829c6f\",59:\"b0e9e55e\",60:\"b669dfee\",61:\"90973caa\",62:\"4c3bc10c\",63:\"d5a47953\",64:\"fd07809f\",65:\"29373879\",66:\"b0b48115\",67:\"a5bd4fb8\",68:\"31d6cfe0\",69:\"72fe9407\",70:\"0e4cb79f\",71:\"6fe14b67\",72:\"31d6cfe0\",73:\"af8a82de\",74:\"31d6cfe0\",75:\"8293d3ff\",76:\"8b85d08c\",77:\"495895ed\",78:\"9f887256\",79:\"de73d6f7\",80:\"431c1b0d\",81:\"4e282206\",82:\"f71fae37\",83:\"31d6cfe0\",84:\"dfea47be\",85:\"31d6cfe0\",86:\"3f93face\",87:\"1f38cff8\",88:\"d6d65afa\",89:\"0a9793ff\",90:\"7b937513\",91:\"66001469\",92:\"d1aa4fa6\",93:\"490b7bbe\",94:\"ec67e267\",95:\"d60f01a2\",96:\"5d3af705\",97:\"5124c33b\",98:\"31d6cfe0\",99:\"90973caa\",100:\"31d6cfe0\",101:\"3d9c91e8\",102:\"bed16b25\",103:\"03dff7ad\",104:\"661eff19\",105:\"b2265c78\",106:\"d60f01a2\",107:\"572b43dd\",108:\"149cd961\",109:\"4f0b8fb4\",110:\"fe37ec11\",111:\"31d6cfe0\",112:\"31d6cfe0\",113:\"31d6cfe0\",114:\"31d6cfe0\",115:\"31d6cfe0\",116:\"31d6cfe0\",117:\"31d6cfe0\",118:\"31d6cfe0\",119:\"31d6cfe0\",120:\"31d6cfe0\",121:\"31d6cfe0\",122:\"31d6cfe0\",123:\"31d6cfe0\",124:\"31d6cfe0\",125:\"31d6cfe0\",126:\"31d6cfe0\"}[u]+\".chunk.css\",d=s.p+f,a=document.getElementsByTagName(\"link\"),t=0;t<a.length;t++){var r=(n=a[t]).getAttribute(\"data-href\")||n.getAttribute(\"href\");if(\"stylesheet\"===n.rel&&(r===f||r===d))return e()}var b=document.getElementsByTagName(\"style\");for(t=0;t<b.length;t++){var n;if((r=(n=b[t]).getAttribute(\"data-href\"))===f||r===d)return e()}var o=document.createElement(\"link\");o.rel=\"stylesheet\",o.type=\"text/css\",o.onload=e,o.onerror=function(e){var f=e&&e.target&&e.target.src||d,a=new Error(\"Loading CSS chunk \"+u+\" failed.\\n(\"+f+\")\");a.code=\"CSS_CHUNK_LOAD_FAILED\",a.request=f,delete i[u],o.parentNode.removeChild(o),c(a)},o.href=d,document.getElementsByTagName(\"head\")[0].appendChild(o)}).then(function(){i[u]=0}));var a=l[u];if(0!==a)if(a)e.push(a[2]);else{var f=new Promise(function(e,f){a=l[u]=[e,f]});e.push(a[2]=f);var c,d=document.createElement(\"script\");d.charset=\"utf-8\",d.timeout=120,s.nc&&d.setAttribute(\"nonce\",s.nc),d.src=s.p+\"static/js/\"+({}[u]||u)+\".\"+{0:\"6acaa34c\",1:\"d1eb5178\",2:\"10d08827\",3:\"34096620\",4:\"3f602d1d\",5:\"9f5eaf46\",6:\"4b44d245\",7:\"f29b3abf\",8:\"1e27aeea\",9:\"fc1b28f5\",10:\"1f76f4c2\",11:\"3a34c990\",12:\"72af69f0\",13:\"68f3478f\",14:\"e1a600af\",15:\"70b0c980\",16:\"3139cca0\",17:\"e06e3a3a\",18:\"c3d9cbce\",19:\"e8f9e95d\",20:\"995b83b2\",24:\"87977758\",25:\"5de97a48\",26:\"c9704345\",27:\"c2567fab\",28:\"1949b9a9\",29:\"f139cc44\",30:\"31ae1e33\",31:\"7fdcd00f\",32:\"5318e027\",33:\"cd4c5729\",34:\"dc4a8c5e\",35:\"6830b36f\",36:\"263db393\",37:\"3d3e398b\",38:\"f705d80a\",39:\"c21cd803\",40:\"ea592a0d\",41:\"8f59296f\",42:\"ee2d2bce\",43:\"07c883b6\",44:\"609c296e\",45:\"aec8e579\",46:\"1b36febe\",47:\"3b434e16\",48:\"017a01a7\",49:\"aec906df\",50:\"2c91c7be\",51:\"15ed1242\",52:\"df0b4052\",53:\"f50a4172\",54:\"b953cffe\",55:\"01d8d4bb\",56:\"73844a7e\",57:\"27641eba\",58:\"3858d48e\",59:\"4cf94e24\",60:\"c94611d7\",61:\"dbd5ba8e\",62:\"7e01123f\",63:\"3078ebb3\",64:\"5a066052\",65:\"9b6987cb\",66:\"c2802d9a\",67:\"eeb7a32f\",68:\"41152aaf\",69:\"4bf02c98\",70:\"22ade508\",71:\"9627f9b8\",72:\"b56a857d\",73:\"5d1ce6f9\",74:\"89fdb6eb\",75:\"2a5ee68a\",76:\"47b47297\",77:\"ae6ba9c5\",78:\"c87c16b1\",79:\"5f6236e9\",80:\"b8f53fff\",81:\"5bb728de\",82:\"cf5f1256\",83:\"835f1e3c\",84:\"ef0aa6dd\",85:\"976f051f\",86:\"3ccde8d9\",87:\"4fe36fb5\",88:\"6d36fb1a\",89:\"59e451ae\",90:\"95edc862\",91:\"79670e84\",92:\"ae387d96\",93:\"5dc2a065\",94:\"6c790f37\",95:\"53f763f6\",96:\"d872e106\",97:\"9fd37897\",98:\"30ad712b\",99:\"fce44ab2\",100:\"da61cecf\",101:\"3a7599cd\",102:\"86f6fd74\",103:\"067988e1\",104:\"495bf22a\",105:\"3d061119\",106:\"c1658cb4\",107:\"107ebd42\",108:\"f7a9b690\",109:\"d24cb2a0\",110:\"5736e27a\",111:\"da582bb0\",112:\"9d616ea4\",113:\"4e40ee1c\",114:\"306edd51\",115:\"c9a71116\",116:\"80d4bb8b\",117:\"14620f47\",118:\"1da3259d\",119:\"21834adf\",120:\"124748d2\",121:\"3cd61b66\",122:\"4cb8f606\",123:\"09dca2ad\",124:\"15dc6e53\",125:\"ea555418\",126:\"8750a0e6\"}[u]+\".chunk.js\";var t=new Error;c=function(e){d.onerror=d.onload=null,clearTimeout(r);var f=l[u];if(0!==f){if(f){var a=e&&(\"load\"===e.type?\"missing\":e.type),c=e&&e.target&&e.target.src;t.message=\"Loading chunk \"+u+\" failed.\\n(\"+a+\": \"+c+\")\",t.name=\"ChunkLoadError\",t.type=a,t.request=c,f[1](t)}l[u]=void 0}};var r=setTimeout(function(){c({type:\"timeout\",target:d})},12e4);d.onerror=d.onload=c,document.head.appendChild(d)}return Promise.all(e)},s.m=n,s.c=a,s.d=function(e,f,a){s.o(e,f)||Object.defineProperty(e,f,{enumerable:!0,get:a})},s.r=function(e){\"undefined\"!=typeof Symbol&&Symbol.toStringTag&&Object.defineProperty(e,Symbol.toStringTag,{value:\"Module\"}),Object.defineProperty(e,\"__esModule\",{value:!0})},s.t=function(f,e){if(1&e&&(f=s(f)),8&e)return f;if(4&e&&\"object\"==typeof f&&f&&f.__esModule)return f;var a=Object.create(null);if(s.r(a),Object.defineProperty(a,\"default\",{enumerable:!0,value:f}),2&e&&\"string\"!=typeof f)for(var c in f)s.d(a,c,function(e){return f[e]}.bind(null,c));return a},s.n=function(e){var f=e&&e.__esModule?function(){return e.default}:function(){return e};return s.d(f,\"a\",f),f},s.o=function(e,f){return Object.prototype.hasOwnProperty.call(e,f)},s.p=\"https://job-static.hirist.com/V2/\",s.oe=function(e){throw console.error(e),e};var f=window.webpackJsonp=window.webpackJsonp||[],c=f.push.bind(f);f.push=e,f=f.slice();for(var d=0;d<f.length;d++)e(f[d]);var p=c;o()}([])\n",
      "     </script>\n",
      "     <script src=\"https://job-static.hirist.com/V2/static/js/23.d871011d.chunk.js\">\n",
      "     </script>\n",
      "     <script src=\"https://job-static.hirist.com/V2/static/js/main.18e7201f.chunk.js\">\n",
      "     </script>\n",
      "    </body>\n",
      "   </meta>\n",
      "  </meta>\n",
      " </meta>\n",
      "</html>\n"
     ]
    }
   ],
   "source": [
    "content=BeautifulSoup(req.content,'html.parser')\n",
    "print(content.prettify())"
   ]
  },
  {
   "cell_type": "code",
   "execution_count": 320,
   "id": "1cc41c5f",
   "metadata": {},
   "outputs": [],
   "source": [
    "# All Data Analyst jobs "
   ]
  },
  {
   "cell_type": "code",
   "execution_count": 328,
   "id": "9759af35",
   "metadata": {},
   "outputs": [],
   "source": [
    "data_analyst=content.find_all('div',{'class':'a'})"
   ]
  },
  {
   "cell_type": "code",
   "execution_count": 329,
   "id": "fa90cb8a",
   "metadata": {},
   "outputs": [
    {
     "name": "stdout",
     "output_type": "stream",
     "text": [
      "[]\n"
     ]
    }
   ],
   "source": [
    "print(data_analyst)"
   ]
  },
  {
   "cell_type": "code",
   "execution_count": null,
   "id": "8b3aeeaf",
   "metadata": {},
   "outputs": [],
   "source": []
  }
 ],
 "metadata": {
  "kernelspec": {
   "display_name": "Python 3 (ipykernel)",
   "language": "python",
   "name": "python3"
  },
  "language_info": {
   "codemirror_mode": {
    "name": "ipython",
    "version": 3
   },
   "file_extension": ".py",
   "mimetype": "text/x-python",
   "name": "python",
   "nbconvert_exporter": "python",
   "pygments_lexer": "ipython3",
   "version": "3.10.9"
  }
 },
 "nbformat": 4,
 "nbformat_minor": 5
}
